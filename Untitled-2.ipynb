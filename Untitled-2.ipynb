{
 "cells": [
  {
   "cell_type": "code",
   "execution_count": 2,
   "id": "36929184-1a36-4899-954b-256778e906fb",
   "metadata": {},
   "outputs": [
    {
     "name": "stdout",
     "output_type": "stream",
     "text": [
      "Collecting macos-notifications\n",
      "  Using cached macos_notifications-0.2.1-py3-none-any.whl.metadata (6.1 kB)\n",
      "Collecting pyobjc-core>=9.1.1 (from macos-notifications)\n",
      "  Using cached pyobjc_core-11.1-cp313-cp313-macosx_10_13_universal2.whl.metadata (2.7 kB)\n",
      "Collecting pyobjc-framework-Cocoa>=9.1.1 (from macos-notifications)\n",
      "  Using cached pyobjc_framework_cocoa-11.1-cp313-cp313-macosx_10_13_universal2.whl.metadata (2.5 kB)\n",
      "Using cached macos_notifications-0.2.1-py3-none-any.whl (11 kB)\n",
      "Using cached pyobjc_core-11.1-cp313-cp313-macosx_10_13_universal2.whl (676 kB)\n",
      "Using cached pyobjc_framework_cocoa-11.1-cp313-cp313-macosx_10_13_universal2.whl (389 kB)\n",
      "Installing collected packages: pyobjc-core, pyobjc-framework-Cocoa, macos-notifications\n",
      "Successfully installed macos-notifications-0.2.1 pyobjc-core-11.1 pyobjc-framework-Cocoa-11.1\n",
      "\n",
      "\u001b[1m[\u001b[0m\u001b[34;49mnotice\u001b[0m\u001b[1;39;49m]\u001b[0m\u001b[39;49m A new release of pip is available: \u001b[0m\u001b[31;49m24.3.1\u001b[0m\u001b[39;49m -> \u001b[0m\u001b[32;49m25.2\u001b[0m\n",
      "\u001b[1m[\u001b[0m\u001b[34;49mnotice\u001b[0m\u001b[1;39;49m]\u001b[0m\u001b[39;49m To update, run: \u001b[0m\u001b[32;49mpip install --upgrade pip\u001b[0m\n"
     ]
    }
   ],
   "source": [
    "!pip install macos-notifications"
   ]
  },
  {
   "cell_type": "code",
   "execution_count": 3,
   "id": "6ac6bccf-91d6-4609-b85c-e5223a271984",
   "metadata": {},
   "outputs": [
    {
     "name": "stdout",
     "output_type": "stream",
     "text": [
      "📰 최신 뉴스를 확인하는 중...\n",
      "🔔 새로운 소식 발견: Stock market today: Dow jumps 800 points to record, S&P 500, Nasdaq soar as Powell's Jackson Hole finale fuels bets on September rate cut\n"
     ]
    }
   ],
   "source": [
    "# 필요한 라이브러리들을 불러옵니다.\n",
    "import requests\n",
    "from mac_notifications import client\n",
    "\n",
    "# --- ⚙️ 설정 부분 ---\n",
    "# 1. NewsAPI에서 발급받은 본인의 API 키를 입력하세요.\n",
    "NEWS_API_KEY = \"69e317f7123c4afa86f336b37aa99ce4\" \n",
    "\n",
    "# 2. 알림을 받고 싶은 주식 티커를 리스트에 추가하세요.\n",
    "STOCK_TICKERS = [\"CRCL\"] \n",
    "# --------------------\n",
    "\n",
    "# 이미 알림을 보낸 뉴스를 기록하기 위한 변수\n",
    "# (주피터 노트북에서는 셀을 실행할 때마다 초기화되므로, \n",
    "#  실행할 때마다 최신 뉴스를 다시 알려줍니다.)\n",
    "notified_articles = set()\n",
    "\n",
    "def fetch_stock_news():\n",
    "    \"\"\"지정된 주식 티커에 대한 최신 뉴스를 가져오는 함수\"\"\"\n",
    "    print(\"📰 최신 뉴스를 확인하는 중...\")\n",
    "    \n",
    "    for ticker in STOCK_TICKERS:\n",
    "        url = f\"https://newsapi.org/v2/everything?q={ticker}&apiKey={NEWS_API_KEY}&sortBy=publishedAt&language=en\"\n",
    "\n",
    "        try:\n",
    "            response = requests.get(url)\n",
    "            data = response.json()\n",
    "\n",
    "            if data[\"status\"] == \"ok\" and data[\"articles\"]:\n",
    "                latest_article = data[\"articles\"][0]\n",
    "                title = latest_article[\"title\"]\n",
    "                description = latest_article[\"description\"]\n",
    "                article_url = latest_article[\"url\"]\n",
    "                \n",
    "                # 노트북에서는 항상 최신 뉴스를 보여주는 것이 더 유용할 수 있습니다.\n",
    "                print(f\"🔔 새로운 소식 발견: {title}\")\n",
    "                \n",
    "                # 맥북에 팝업 알림을 보냅니다.\n",
    "                client.create_notification(\n",
    "                    title=f\"📈 새로운 {ticker} 소식!\",\n",
    "                    subtitle=title,\n",
    "                    text=description if description else \"설명 없음\" # description이 없는 경우를 대비\n",
    "                )\n",
    "            else:\n",
    "                print(f\"'{ticker}'에 대한 뉴스를 가져오지 못했습니다.\")\n",
    "\n",
    "        except Exception as e:\n",
    "            print(f\"🚨 오류가 발생했습니다: {e}\")\n",
    "\n",
    "# --- 함수 실행 ---\n",
    "# 이 셀을 실행할 때마다 위의 함수가 한 번 호출됩니다.\n",
    "fetch_stock_news()"
   ]
  },
  {
   "cell_type": "code",
   "execution_count": null,
   "id": "8efc5473-7aad-4499-a31b-7c0f9e452a6b",
   "metadata": {},
   "outputs": [],
   "source": []
  }
 ],
 "metadata": {
  "kernelspec": {
   "display_name": "Python 3 (ipykernel)",
   "language": "python",
   "name": "python3"
  },
  "language_info": {
   "codemirror_mode": {
    "name": "ipython",
    "version": 3
   },
   "file_extension": ".py",
   "mimetype": "text/x-python",
   "name": "python",
   "nbconvert_exporter": "python",
   "pygments_lexer": "ipython3",
   "version": "3.13.2"
  }
 },
 "nbformat": 4,
 "nbformat_minor": 5
}
